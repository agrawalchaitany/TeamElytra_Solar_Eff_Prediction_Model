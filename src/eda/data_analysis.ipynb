{
 "cells": [
  {
   "cell_type": "markdown",
   "id": "7fe3cd38",
   "metadata": {},
   "source": [
    "# DATASET PREVIEW"
   ]
  },
  {
   "cell_type": "code",
   "execution_count": 1,
   "id": "a8438a61",
   "metadata": {},
   "outputs": [
    {
     "name": "stdout",
     "output_type": "stream",
     "text": [
      "(20000, 17)\n",
      "(12000, 16)\n",
      "(5, 2)\n"
     ]
    }
   ],
   "source": [
    "import numpy as np\n",
    "import  pandas as pd\n",
    "\n",
    "train = pd.read_csv(\"C:/Users/mdutt/Desktop/TeamElytra_Solar_Eff_Prediction_Model/dataset/train.csv\")\n",
    "test = pd.read_csv(\"C:/Users/mdutt/Desktop/TeamElytra_Solar_Eff_Prediction_Model/dataset/test.csv\")\n",
    "sample_submission = pd.read_csv(\"C:/Users/mdutt/Desktop/TeamElytra_Solar_Eff_Prediction_Model/dataset/sample_submission.csv\")\n",
    "\n",
    "# print(train.head(10),\"\\n\",test.head(10),\"\\n\",sample_submission.head(10))\n",
    "\n",
    "print(train.shape)\n",
    "print(test.shape)\n",
    "print(sample_submission.shape)"
   ]
  },
  {
   "cell_type": "code",
   "execution_count": null,
   "metadata": {},
   "outputs": [
    {
     "name": "stdout",
     "output_type": "stream",
     "text": [
      "<class 'pandas.core.frame.DataFrame'>\n",
      "RangeIndex: 20000 entries, 0 to 19999\n",
      "Data columns (total 17 columns):\n",
      " #   Column              Non-Null Count  Dtype  \n",
      "---  ------              --------------  -----  \n",
      " 0   id                  20000 non-null  int64  \n",
      " 1   temperature         18999 non-null  float64\n",
      " 2   irradiance          19013 non-null  float64\n",
      " 3   humidity            20000 non-null  object \n",
      " 4   panel_age           18989 non-null  float64\n",
      " 5   maintenance_count   18973 non-null  float64\n",
      " 6   soiling_ratio       18990 non-null  float64\n",
      " 7   voltage             19007 non-null  float64\n",
      " 8   current             19023 non-null  float64\n",
      " 9   module_temperature  19022 non-null  float64\n",
      " 10  cloud_coverage      18990 non-null  float64\n",
      " 11  wind_speed          20000 non-null  object \n",
      " 12  pressure            20000 non-null  object \n",
      " 13  string_id           20000 non-null  object \n",
      " 14  error_code          14088 non-null  object \n",
      " 15  installation_type   14972 non-null  object \n",
      " 16  efficiency          20000 non-null  float64\n",
      "dtypes: float64(10), int64(1), object(6)\n",
      "memory usage: 2.6+ MB\n",
      "None\n",
      "                 id   temperature    irradiance     panel_age  \\\n",
      "count  20000.000000  18999.000000  19013.000000  18989.000000   \n",
      "mean    9999.500000     25.077241    501.273896     17.509758   \n",
      "std     5773.647028     12.513129    250.926590     10.097557   \n",
      "min        0.000000      0.000000   -597.278646      0.001264   \n",
      "25%     4999.750000     16.853522    332.227277      8.777905   \n",
      "50%     9999.500000     24.720345    499.654730     17.497731   \n",
      "75%    14999.250000     32.848917    668.416734     26.340761   \n",
      "max    19999.000000    147.394168   1537.810349     34.998379   \n",
      "\n",
      "       maintenance_count  soiling_ratio       voltage       current  \\\n",
      "count       18973.000000   18990.000000  19007.000000  19023.000000   \n",
      "mean            4.012070       0.698879     16.242251      1.713396   \n",
      "std             2.002268       0.172244     17.889031      1.152953   \n",
      "min             0.000000       0.400149      0.000000      0.000054   \n",
      "25%             3.000000       0.550654      0.000000      0.772311   \n",
      "50%             4.000000       0.697663     12.350138      1.558413   \n",
      "75%             5.000000       0.847838     26.557322      2.474744   \n",
      "max            15.000000       0.999949    494.279016      7.315597   \n",
      "\n",
      "       module_temperature  cloud_coverage    efficiency  \n",
      "count        19022.000000    18990.000000  20000.000000  \n",
      "mean            29.923807       51.378575      0.510260  \n",
      "std             12.125405       48.473664      0.140420  \n",
      "min              0.000000        0.000244      0.000000  \n",
      "25%             21.522124       25.081618      0.445613  \n",
      "50%             29.857669       49.704133      0.515709  \n",
      "75%             38.094943       75.052824      0.590324  \n",
      "max             65.000000     1000.000000      0.987066  \n"
     ]
    }
   ],
   "source": [
    "# Check columns and types with values:\n",
    "print(train.info())\n",
    "print(train.describe())\n"
   ]
  },
  {
   "cell_type": "code",
   "execution_count": 4,
   "id": "c9f25bd8",
   "metadata": {},
   "outputs": [
    {
     "name": "stdout",
     "output_type": "stream",
     "text": [
      "id                       0\n",
      "temperature           1001\n",
      "irradiance             987\n",
      "humidity                 0\n",
      "panel_age             1011\n",
      "maintenance_count     1027\n",
      "soiling_ratio         1010\n",
      "voltage                993\n",
      "current                977\n",
      "module_temperature     978\n",
      "cloud_coverage        1010\n",
      "wind_speed               0\n",
      "pressure                 0\n",
      "string_id                0\n",
      "error_code            5912\n",
      "installation_type     5028\n",
      "efficiency               0\n",
      "dtype: int64\n",
      "id                       0\n",
      "temperature            582\n",
      "irradiance             615\n",
      "humidity                 0\n",
      "panel_age              607\n",
      "maintenance_count      609\n",
      "soiling_ratio          610\n",
      "voltage                547\n",
      "current                587\n",
      "module_temperature     580\n",
      "cloud_coverage         582\n",
      "wind_speed               0\n",
      "pressure                 0\n",
      "string_id                0\n",
      "error_code            3611\n",
      "installation_type     2979\n",
      "dtype: int64\n"
     ]
    }
   ],
   "source": [
    "# Check for missing values:\n",
    "print(train.isnull().sum())\n",
    "print(test.isnull().sum())\n"
   ]
  },
  {
   "cell_type": "markdown",
   "id": "c23be628",
   "metadata": {},
   "source": [
    "# EDA for data processing"
   ]
  },
  {
   "cell_type": "markdown",
   "id": "49a2fa8f",
   "metadata": {},
   "source": [
    "## Numerical Data Plots"
   ]
  },
  {
   "cell_type": "code",
   "execution_count": null,
   "id": "9a4040ba",
   "metadata": {},
   "outputs": [],
   "source": [
    "import seaborn as sns\n",
    "import matplotlib.pyplot as plt\n",
    "\n",
    "numerical_cols = train.select_dtypes(include=['float64', 'int64']).columns\n",
    "numerical_cols = numerical_cols.drop('id')\n",
    "\n",
    "# Plotting Histograms and Boxplot for numerical columns\n",
    "\n",
    "# convert columns to numeric, coercing errors to NaN\n",
    "train['humidity'] = pd.to_numeric(train['humidity'], errors='coerce')\n",
    "train['wind_speed'] = pd.to_numeric(train['wind_speed'], errors='coerce')\n",
    "train['pressure'] = pd.to_numeric(train['pressure'], errors='coerce')\n",
    "\n",
    "test['humidity'] = pd.to_numeric(test['humidity'], errors='coerce')\n",
    "test['wind_speed'] = pd.to_numeric(test['wind_speed'], errors='coerce')\n",
    "test['pressure'] = pd.to_numeric(test['pressure'], errors='coerce')\n",
    "\n",
    "for col in numerical_cols:\n",
    "    plt.figure(figsize=(5,4))\n",
    "    plt.subplot(1, 2, 1)\n",
    "    sns.histplot(train[col], kde=True)\n",
    "    plt.title(f'{col} distribution')\n",
    "    \n",
    "    plt.subplot(1, 2, 2)\n",
    "    sns.boxplot(x=train[col], color='salmon')\n",
    "    plt.title(f'Boxplot of {col}')\n",
    "\n",
    "    plt.tight_layout()\n",
    "    plt.show()\n"
   ]
  },
  {
   "cell_type": "markdown",
   "id": "6d6c1fbc",
   "metadata": {},
   "source": [
    "## Categorical Data Plots"
   ]
  },
  {
   "cell_type": "code",
   "execution_count": null,
   "id": "63fe6507",
   "metadata": {},
   "outputs": [],
   "source": [
    "sns.set_theme(style=\"whitegrid\")\n",
    "\n",
    "# Plot count plots for categorical variables\n",
    "categorial_cols =['string_id','error_code' ,'installation_type']\n",
    "\n",
    "for col in categorial_cols:\n",
    "    plt.figure(figsize=(5,4))\n",
    "    sns.countplot(data=train, x=col, hue =col, palette='viridis', legend= False)\n",
    "    plt.xlabel(col)\n",
    "    plt.ylabel('Count')\n",
    "    plt.title(f'Count Plot of {col}')\n",
    "    plt.xticks(rotation=45)\n",
    "    plt.tight_layout()\n",
    "    plt.show()\n",
    "\n"
   ]
  },
  {
   "cell_type": "markdown",
   "id": "72ff6173",
   "metadata": {},
   "source": [
    "## Handle missing values"
   ]
  },
  {
   "cell_type": "code",
   "execution_count": null,
   "id": "5c55b3ce",
   "metadata": {},
   "outputs": [],
   "source": [
    "# for numerical columns, fill NaN values with median\n",
    "for cols in numerical_cols:\n",
    "    if train[cols].isnull().sum() > 0:\n",
    "        train[cols].fillna(train[cols].median(), inplace=True)\n",
    "        test[cols].fillna(test[cols].median(), inplace=True)\n",
    "        \n",
    "# for categorical columns, fill NaN values with mode\n",
    "for cols in categorial_cols:\n",
    "    if train[cols].isnull().sum() > 0:\n",
    "        train[cols].fillna(train[cols].mode()[0], inplace=True)\n",
    "        test[cols].fillna(test[cols].mode()[0], inplace=True)"
   ]
  },
  {
   "cell_type": "markdown",
   "id": "b2c59200",
   "metadata": {},
   "source": [
    "## As LightGBM do not understand categorical values we need to convert those into Numerical values, Fields :- ['string_id','error_code' ,'installation_type']"
   ]
  },
  {
   "cell_type": "code",
   "execution_count": 28,
   "id": "c61680b3",
   "metadata": {},
   "outputs": [],
   "source": [
    "train = pd.get_dummies(train, columns=categorial_cols, drop_first=True)\n",
    "test = pd.get_dummies(test, columns=categorial_cols, drop_first=True)\n",
    "\n",
    "# Align train and test dataframes\n",
    "missing_cols = set(train.columns) - set(test.columns)\n",
    "for col in missing_cols:\n",
    "    test[col] = 0\n",
    "\n",
    "test = test[train.columns.drop('efficiency')]  # remove target from alignment\n"
   ]
  },
  {
   "cell_type": "markdown",
   "id": "11b8369f",
   "metadata": {},
   "source": [
    "## Handling Outliers"
   ]
  },
  {
   "cell_type": "code",
   "execution_count": null,
   "id": "1113a687",
   "metadata": {},
   "outputs": [],
   "source": [
    "from sklearn.preprocessing import RobustScaler\n",
    "\n",
    "# Select numeric columns excluding 'id' and target 'efficiency'\n",
    "numeric_cols = train.select_dtypes(include=['float64', 'int64']).columns.drop(['id', 'efficiency'])\n",
    "\n",
    "# Initialize scaler\n",
    "scaler = RobustScaler()\n",
    "\n",
    "# Fit scaler on train numeric data and transform both train and test\n",
    "train[numeric_cols] = scaler.fit_transform(train[numeric_cols])\n",
    "test[numeric_cols] = scaler.transform(test[numeric_cols])\n",
    "\n",
    "# Save the cleaned data\n",
    "train.to_csv(\"C:/Users/mdutt/Desktop/TeamElytra_Solar_Eff_Prediction_Model/dataset/Clean_X_Train.csv\", index=False)\n",
    "test.to_csv(\"C:/Users/mdutt/Desktop/TeamElytra_Solar_Eff_Prediction_Model/dataset/Clean_Test_Data.csv\", index=False)"
   ]
  },
  {
   "cell_type": "markdown",
   "id": "f1e8a1f6",
   "metadata": {},
   "source": [
    "## PreProcessed Data FINAL"
   ]
  },
  {
   "cell_type": "code",
   "execution_count": 34,
   "id": "cbfcb080",
   "metadata": {},
   "outputs": [],
   "source": [
    "X_train = train.drop(['id', 'efficiency'], axis=1)\n",
    "y_train = train['efficiency']\n",
    "\n",
    "X_test = test.drop('id', axis=1)\n",
    "train_ids = train['id']\n",
    "test_ids = test['id']\n",
    "# Save the processed data \n",
    "y_train.to_csv(\"C:/Users/mdutt/Desktop/TeamElytra_Solar_Eff_Prediction_Model/dataset/Efficiency_y_train.csv\", index=False)  \n"
   ]
  }
 ],
 "metadata": {
  "kernelspec": {
   "display_name": "reg",
   "language": "python",
   "name": "python3"
  },
  "language_info": {
   "codemirror_mode": {
    "name": "ipython",
    "version": 3
   },
   "file_extension": ".py",
   "mimetype": "text/x-python",
   "name": "python",
   "nbconvert_exporter": "python",
   "pygments_lexer": "ipython3",
   "version": "3.12.3"
  }
 },
 "nbformat": 4,
 "nbformat_minor": 5
}
